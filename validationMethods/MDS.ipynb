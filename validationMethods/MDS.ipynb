{
 "cells": [
  {
   "cell_type": "code",
   "execution_count": null,
   "metadata": {},
   "outputs": [],
   "source": [
    "import pandas as pd\n",
    "import seaborn as sns\n",
    "import matplotlib.pyplot as plt\n",
    "from scipy.cluster.hierarchy import dendrogram, linkage\n",
    "from scipy.spatial.distance import pdist, squareform\n",
    "from sklearn.manifold import MDS\n",
    "\n",
    "FILE_PATH = 'Processed Data/Aruba_17/pre_processed_data.csv'\n",
    "\n",
    "# Read data\n",
    "data_df = pd.read_csv(FILE_PATH, names=['Date', 'Time', 'Device ID', 'Status', 'Activity', 'Activity Status'])\n",
    "\n",
    "# Forward-fill the 'Activity' column so that each sensor event has an associated activity\n",
    "data_df['Activity'] = data_df['Activity'].fillna(method='ffill')\n",
    "\n",
    "# Filter the data by sensor type\n",
    "motion_sensors = data_df[data_df['Device ID'].str.startswith('M')]\n",
    "\n",
    "# Create a combined pivot table with all sensor types\n",
    "combined_pivot_table = motion_sensors.pivot_table(index='Activity', columns='Device ID', values='Status', aggfunc='count', fill_value=0)\n",
    "\n",
    "# Normalize the pivot table by row\n",
    "normalized_combined_pivot_table = combined_pivot_table.div(combined_pivot_table.sum(axis=1), axis=0)\n",
    "\n",
    "# Calculate the correlation between activities and create a distance matrix (1 - correlation)\n",
    "activity_distance_matrix = 1 - normalized_combined_pivot_table.T.corr()"
   ]
  },
  {
   "cell_type": "code",
   "execution_count": null,
   "metadata": {},
   "outputs": [],
   "source": [
    "# Apply hierarchical clustering\n",
    "Z = linkage(squareform(activity_distance_matrix), method='ward')\n",
    "dendrogram(Z, labels=activity_distance_matrix.index, leaf_rotation=90)\n",
    "\n",
    "plt.title(\"Hierarchical Clustering of Activities\")\n",
    "plt.xlabel(\"Activity\")\n",
    "plt.ylabel(\"Distance\")\n",
    "plt.show()"
   ]
  },
  {
   "cell_type": "code",
   "execution_count": null,
   "metadata": {},
   "outputs": [],
   "source": [
    "# Apply MDS to cluster activities\n",
    "embedding = MDS(n_components=2, dissimilarity='precomputed', random_state=42)\n",
    "activity_coordinates = embedding.fit_transform(activity_distance_matrix)\n",
    "\n",
    "# Create a dataframe with MDS coordinates for activities\n",
    "activity_df = pd.DataFrame(activity_coordinates, columns=['x', 'y'], index=activity_distance_matrix.index)\n",
    "\n",
    "# Calculate the average coordinates for each sensor\n",
    "sensor_coordinates = pd.DataFrame(index=normalized_combined_pivot_table.columns, columns=['x', 'y'], dtype=float)\n",
    "\n",
    "for sensor in sensor_coordinates.index:\n",
    "    sensor_coordinates.loc[sensor] = (normalized_combined_pivot_table[sensor] * activity_df).sum() / normalized_combined_pivot_table[sensor].sum()\n",
    "\n",
    "# Scale the sensor coordinates to be closer to their respective activities\n",
    "scaling_factor = 0.5\n",
    "scaled_sensor_coordinates = sensor_coordinates * scaling_factor\n",
    "\n",
    "# Create a scatter plot\n",
    "plt.figure(figsize=(12, 8))\n",
    "\n",
    "# Plot motion sensors\n",
    "sns.scatterplot(data=scaled_sensor_coordinates, x='x', y='y', color='blue', label='Motion Sensors')\n",
    "\n",
    "# Plot activities\n",
    "sns.scatterplot(data=activity_df, x='x', y='y', hue=activity_df.index, palette='tab10', marker='*', s=200, legend=False)\n",
    "\n",
    "# Add labels\n",
    "for i, sensor in enumerate(scaled_sensor_coordinates.index):\n",
    "    plt.text(scaled_sensor_coordinates.loc[sensor, 'x'], scaled_sensor_coordinates.loc[sensor, 'y'], sensor, fontsize=9, ha='center', va='center')\n",
    "\n",
    "for i, activity in enumerate(activity_df.index):\n",
    "    plt.text(activity_df.loc[activity, 'x'], activity_df.loc[activity, 'y'], activity, fontsize=9, ha='center', va='center', fontweight='bold')\n",
    "\n",
    "plt.xlabel('MDS Dimension 1')\n",
    "plt.ylabel('MDS Dimension 2')\n",
    "plt.title('MDS Plot of Activities and Sensors')\n",
    "plt.legend(title='Sensor Type')\n",
    "\n",
    "# Show the plot\n",
    "plt.show()"
   ]
  },
  {
   "cell_type": "code",
   "execution_count": 4,
   "metadata": {},
   "outputs": [
    {
     "name": "stderr",
     "output_type": "stream",
     "text": [
      "C:\\Users\\Alec\\AppData\\Local\\Temp\\ipykernel_38252\\3373956883.py:9: DtypeWarning: Columns (0,1) have mixed types. Specify dtype option on import or set low_memory=False.\n",
      "  data_df = pd.read_csv(FILE_PATH, names=['Date', 'Time', 'Device ID', 'Status', 'Activity', 'Activity Status'])\n"
     ]
    },
    {
     "ename": "ValueError",
     "evalue": "Could not interpret value `label` for parameter `hue`",
     "output_type": "error",
     "traceback": [
      "\u001b[1;31m---------------------------------------------------------------------------\u001b[0m",
      "\u001b[1;31mValueError\u001b[0m                                Traceback (most recent call last)",
      "\u001b[1;32mc:\\Users\\Alec\\Desktop\\Code\\HAR Research\\Virtual Data\\validationMethods\\MDS.ipynb Cell 4\u001b[0m in \u001b[0;36m4\n\u001b[0;32m     <a href='vscode-notebook-cell:/c%3A/Users/Alec/Desktop/Code/HAR%20Research/Virtual%20Data/validationMethods/MDS.ipynb#W3sZmlsZQ%3D%3D?line=38'>39</a>\u001b[0m \u001b[39m# Plot combined DataFrame\u001b[39;00m\n\u001b[0;32m     <a href='vscode-notebook-cell:/c%3A/Users/Alec/Desktop/Code/HAR%20Research/Virtual%20Data/validationMethods/MDS.ipynb#W3sZmlsZQ%3D%3D?line=39'>40</a>\u001b[0m plt\u001b[39m.\u001b[39mfigure(figsize\u001b[39m=\u001b[39m(\u001b[39m12\u001b[39m, \u001b[39m8\u001b[39m))\n\u001b[1;32m---> <a href='vscode-notebook-cell:/c%3A/Users/Alec/Desktop/Code/HAR%20Research/Virtual%20Data/validationMethods/MDS.ipynb#W3sZmlsZQ%3D%3D?line=40'>41</a>\u001b[0m sns\u001b[39m.\u001b[39;49mscatterplot(data\u001b[39m=\u001b[39;49mcombined_df, x\u001b[39m=\u001b[39;49m\u001b[39m'\u001b[39;49m\u001b[39mx\u001b[39;49m\u001b[39m'\u001b[39;49m, y\u001b[39m=\u001b[39;49m\u001b[39m'\u001b[39;49m\u001b[39my\u001b[39;49m\u001b[39m'\u001b[39;49m, hue\u001b[39m=\u001b[39;49m\u001b[39m'\u001b[39;49m\u001b[39mlabel\u001b[39;49m\u001b[39m'\u001b[39;49m, palette\u001b[39m=\u001b[39;49m\u001b[39m'\u001b[39;49m\u001b[39mtab10\u001b[39;49m\u001b[39m'\u001b[39;49m, marker\u001b[39m=\u001b[39;49m\u001b[39m'\u001b[39;49m\u001b[39mo\u001b[39;49m\u001b[39m'\u001b[39;49m, s\u001b[39m=\u001b[39;49m\u001b[39m200\u001b[39;49m)\n\u001b[0;32m     <a href='vscode-notebook-cell:/c%3A/Users/Alec/Desktop/Code/HAR%20Research/Virtual%20Data/validationMethods/MDS.ipynb#W3sZmlsZQ%3D%3D?line=42'>43</a>\u001b[0m \u001b[39m# Add labels\u001b[39;00m\n\u001b[0;32m     <a href='vscode-notebook-cell:/c%3A/Users/Alec/Desktop/Code/HAR%20Research/Virtual%20Data/validationMethods/MDS.ipynb#W3sZmlsZQ%3D%3D?line=43'>44</a>\u001b[0m \u001b[39mfor\u001b[39;00m i, row \u001b[39min\u001b[39;00m combined_df\u001b[39m.\u001b[39miterrows():\n",
      "File \u001b[1;32m~\\AppData\\Local\\Packages\\PythonSoftwareFoundation.Python.3.10_qbz5n2kfra8p0\\LocalCache\\local-packages\\Python310\\site-packages\\seaborn\\relational.py:742\u001b[0m, in \u001b[0;36mscatterplot\u001b[1;34m(data, x, y, hue, size, style, palette, hue_order, hue_norm, sizes, size_order, size_norm, markers, style_order, legend, ax, **kwargs)\u001b[0m\n\u001b[0;32m    732\u001b[0m \u001b[39mdef\u001b[39;00m \u001b[39mscatterplot\u001b[39m(\n\u001b[0;32m    733\u001b[0m     data\u001b[39m=\u001b[39m\u001b[39mNone\u001b[39;00m, \u001b[39m*\u001b[39m,\n\u001b[0;32m    734\u001b[0m     x\u001b[39m=\u001b[39m\u001b[39mNone\u001b[39;00m, y\u001b[39m=\u001b[39m\u001b[39mNone\u001b[39;00m, hue\u001b[39m=\u001b[39m\u001b[39mNone\u001b[39;00m, size\u001b[39m=\u001b[39m\u001b[39mNone\u001b[39;00m, style\u001b[39m=\u001b[39m\u001b[39mNone\u001b[39;00m,\n\u001b[1;32m   (...)\u001b[0m\n\u001b[0;32m    738\u001b[0m     \u001b[39m*\u001b[39m\u001b[39m*\u001b[39mkwargs\n\u001b[0;32m    739\u001b[0m ):\n\u001b[0;32m    741\u001b[0m     variables \u001b[39m=\u001b[39m _ScatterPlotter\u001b[39m.\u001b[39mget_semantics(\u001b[39mlocals\u001b[39m())\n\u001b[1;32m--> 742\u001b[0m     p \u001b[39m=\u001b[39m _ScatterPlotter(data\u001b[39m=\u001b[39;49mdata, variables\u001b[39m=\u001b[39;49mvariables, legend\u001b[39m=\u001b[39;49mlegend)\n\u001b[0;32m    744\u001b[0m     p\u001b[39m.\u001b[39mmap_hue(palette\u001b[39m=\u001b[39mpalette, order\u001b[39m=\u001b[39mhue_order, norm\u001b[39m=\u001b[39mhue_norm)\n\u001b[0;32m    745\u001b[0m     p\u001b[39m.\u001b[39mmap_size(sizes\u001b[39m=\u001b[39msizes, order\u001b[39m=\u001b[39msize_order, norm\u001b[39m=\u001b[39msize_norm)\n",
      "File \u001b[1;32m~\\AppData\\Local\\Packages\\PythonSoftwareFoundation.Python.3.10_qbz5n2kfra8p0\\LocalCache\\local-packages\\Python310\\site-packages\\seaborn\\relational.py:538\u001b[0m, in \u001b[0;36m_ScatterPlotter.__init__\u001b[1;34m(self, data, variables, legend)\u001b[0m\n\u001b[0;32m    529\u001b[0m \u001b[39mdef\u001b[39;00m \u001b[39m__init__\u001b[39m(\u001b[39mself\u001b[39m, \u001b[39m*\u001b[39m, data\u001b[39m=\u001b[39m\u001b[39mNone\u001b[39;00m, variables\u001b[39m=\u001b[39m{}, legend\u001b[39m=\u001b[39m\u001b[39mNone\u001b[39;00m):\n\u001b[0;32m    530\u001b[0m \n\u001b[0;32m    531\u001b[0m     \u001b[39m# TODO this is messy, we want the mapping to be agnostic about\u001b[39;00m\n\u001b[0;32m    532\u001b[0m     \u001b[39m# the kind of plot to draw, but for the time being we need to set\u001b[39;00m\n\u001b[0;32m    533\u001b[0m     \u001b[39m# this information so the SizeMapping can use it\u001b[39;00m\n\u001b[0;32m    534\u001b[0m     \u001b[39mself\u001b[39m\u001b[39m.\u001b[39m_default_size_range \u001b[39m=\u001b[39m (\n\u001b[0;32m    535\u001b[0m         np\u001b[39m.\u001b[39mr_[\u001b[39m.5\u001b[39m, \u001b[39m2\u001b[39m] \u001b[39m*\u001b[39m np\u001b[39m.\u001b[39msquare(mpl\u001b[39m.\u001b[39mrcParams[\u001b[39m\"\u001b[39m\u001b[39mlines.markersize\u001b[39m\u001b[39m\"\u001b[39m])\n\u001b[0;32m    536\u001b[0m     )\n\u001b[1;32m--> 538\u001b[0m     \u001b[39msuper\u001b[39;49m()\u001b[39m.\u001b[39;49m\u001b[39m__init__\u001b[39;49m(data\u001b[39m=\u001b[39;49mdata, variables\u001b[39m=\u001b[39;49mvariables)\n\u001b[0;32m    540\u001b[0m     \u001b[39mself\u001b[39m\u001b[39m.\u001b[39mlegend \u001b[39m=\u001b[39m legend\n",
      "File \u001b[1;32m~\\AppData\\Local\\Packages\\PythonSoftwareFoundation.Python.3.10_qbz5n2kfra8p0\\LocalCache\\local-packages\\Python310\\site-packages\\seaborn\\_oldcore.py:640\u001b[0m, in \u001b[0;36mVectorPlotter.__init__\u001b[1;34m(self, data, variables)\u001b[0m\n\u001b[0;32m    635\u001b[0m \u001b[39m# var_ordered is relevant only for categorical axis variables, and may\u001b[39;00m\n\u001b[0;32m    636\u001b[0m \u001b[39m# be better handled by an internal axis information object that tracks\u001b[39;00m\n\u001b[0;32m    637\u001b[0m \u001b[39m# such information and is set up by the scale_* methods. The analogous\u001b[39;00m\n\u001b[0;32m    638\u001b[0m \u001b[39m# information for numeric axes would be information about log scales.\u001b[39;00m\n\u001b[0;32m    639\u001b[0m \u001b[39mself\u001b[39m\u001b[39m.\u001b[39m_var_ordered \u001b[39m=\u001b[39m {\u001b[39m\"\u001b[39m\u001b[39mx\u001b[39m\u001b[39m\"\u001b[39m: \u001b[39mFalse\u001b[39;00m, \u001b[39m\"\u001b[39m\u001b[39my\u001b[39m\u001b[39m\"\u001b[39m: \u001b[39mFalse\u001b[39;00m}  \u001b[39m# alt., used DefaultDict\u001b[39;00m\n\u001b[1;32m--> 640\u001b[0m \u001b[39mself\u001b[39;49m\u001b[39m.\u001b[39;49massign_variables(data, variables)\n\u001b[0;32m    642\u001b[0m \u001b[39mfor\u001b[39;00m var, \u001b[39mcls\u001b[39m \u001b[39min\u001b[39;00m \u001b[39mself\u001b[39m\u001b[39m.\u001b[39m_semantic_mappings\u001b[39m.\u001b[39mitems():\n\u001b[0;32m    643\u001b[0m \n\u001b[0;32m    644\u001b[0m     \u001b[39m# Create the mapping function\u001b[39;00m\n\u001b[0;32m    645\u001b[0m     map_func \u001b[39m=\u001b[39m partial(\u001b[39mcls\u001b[39m\u001b[39m.\u001b[39mmap, plotter\u001b[39m=\u001b[39m\u001b[39mself\u001b[39m)\n",
      "File \u001b[1;32m~\\AppData\\Local\\Packages\\PythonSoftwareFoundation.Python.3.10_qbz5n2kfra8p0\\LocalCache\\local-packages\\Python310\\site-packages\\seaborn\\_oldcore.py:701\u001b[0m, in \u001b[0;36mVectorPlotter.assign_variables\u001b[1;34m(self, data, variables)\u001b[0m\n\u001b[0;32m    699\u001b[0m \u001b[39melse\u001b[39;00m:\n\u001b[0;32m    700\u001b[0m     \u001b[39mself\u001b[39m\u001b[39m.\u001b[39minput_format \u001b[39m=\u001b[39m \u001b[39m\"\u001b[39m\u001b[39mlong\u001b[39m\u001b[39m\"\u001b[39m\n\u001b[1;32m--> 701\u001b[0m     plot_data, variables \u001b[39m=\u001b[39m \u001b[39mself\u001b[39m\u001b[39m.\u001b[39m_assign_variables_longform(\n\u001b[0;32m    702\u001b[0m         data, \u001b[39m*\u001b[39m\u001b[39m*\u001b[39mvariables,\n\u001b[0;32m    703\u001b[0m     )\n\u001b[0;32m    705\u001b[0m \u001b[39mself\u001b[39m\u001b[39m.\u001b[39mplot_data \u001b[39m=\u001b[39m plot_data\n\u001b[0;32m    706\u001b[0m \u001b[39mself\u001b[39m\u001b[39m.\u001b[39mvariables \u001b[39m=\u001b[39m variables\n",
      "File \u001b[1;32m~\\AppData\\Local\\Packages\\PythonSoftwareFoundation.Python.3.10_qbz5n2kfra8p0\\LocalCache\\local-packages\\Python310\\site-packages\\seaborn\\_oldcore.py:938\u001b[0m, in \u001b[0;36mVectorPlotter._assign_variables_longform\u001b[1;34m(self, data, **kwargs)\u001b[0m\n\u001b[0;32m    933\u001b[0m \u001b[39melif\u001b[39;00m \u001b[39misinstance\u001b[39m(val, (\u001b[39mstr\u001b[39m, \u001b[39mbytes\u001b[39m)):\n\u001b[0;32m    934\u001b[0m \n\u001b[0;32m    935\u001b[0m     \u001b[39m# This looks like a column name but we don't know what it means!\u001b[39;00m\n\u001b[0;32m    937\u001b[0m     err \u001b[39m=\u001b[39m \u001b[39mf\u001b[39m\u001b[39m\"\u001b[39m\u001b[39mCould not interpret value `\u001b[39m\u001b[39m{\u001b[39;00mval\u001b[39m}\u001b[39;00m\u001b[39m` for parameter `\u001b[39m\u001b[39m{\u001b[39;00mkey\u001b[39m}\u001b[39;00m\u001b[39m`\u001b[39m\u001b[39m\"\u001b[39m\n\u001b[1;32m--> 938\u001b[0m     \u001b[39mraise\u001b[39;00m \u001b[39mValueError\u001b[39;00m(err)\n\u001b[0;32m    940\u001b[0m \u001b[39melse\u001b[39;00m:\n\u001b[0;32m    941\u001b[0m \n\u001b[0;32m    942\u001b[0m     \u001b[39m# Otherwise, assume the value is itself data\u001b[39;00m\n\u001b[0;32m    943\u001b[0m \n\u001b[0;32m    944\u001b[0m     \u001b[39m# Raise when data object is present and a vector can't matched\u001b[39;00m\n\u001b[0;32m    945\u001b[0m     \u001b[39mif\u001b[39;00m \u001b[39misinstance\u001b[39m(data, pd\u001b[39m.\u001b[39mDataFrame) \u001b[39mand\u001b[39;00m \u001b[39mnot\u001b[39;00m \u001b[39misinstance\u001b[39m(val, pd\u001b[39m.\u001b[39mSeries):\n",
      "\u001b[1;31mValueError\u001b[0m: Could not interpret value `label` for parameter `hue`"
     ]
    },
    {
     "data": {
      "text/plain": [
       "<Figure size 1200x800 with 0 Axes>"
      ]
     },
     "metadata": {},
     "output_type": "display_data"
    }
   ],
   "source": [
    "import pandas as pd\n",
    "import seaborn as sns\n",
    "import matplotlib.pyplot as plt\n",
    "from sklearn.manifold import MDS\n",
    "\n",
    "FILE_PATH = '../Processed Data/Aruba_17/pre_processed_data.csv'\n",
    "\n",
    "# Read data\n",
    "data_df = pd.read_csv(FILE_PATH, names=['Date', 'Time', 'Device ID', 'Status', 'Activity', 'Activity Status'])\n",
    "\n",
    "# Forward-fill the 'Activity' column so that each sensor event has an associated activity\n",
    "data_df['Activity'] = data_df['Activity'].fillna(method='ffill')\n",
    "\n",
    "# Filter the data by sensor type\n",
    "motion_sensors = data_df[data_df['Device ID'].str.startswith('M')]\n",
    "\n",
    "# Create a combined pivot table with all sensor types\n",
    "combined_pivot_table = motion_sensors.pivot_table(index='Activity', columns='Device ID', values='Status', aggfunc='count', fill_value=0)\n",
    "\n",
    "# Normalize the pivot table by row\n",
    "normalized_combined_pivot_table = combined_pivot_table.div(combined_pivot_table.sum(axis=1), axis=0)\n",
    "\n",
    "# Compute MDS for activities\n",
    "embedding_activity = MDS(n_components=2, random_state=42)\n",
    "activity_coordinates = embedding_activity.fit_transform(normalized_combined_pivot_table)\n",
    "\n",
    "# Compute MDS for sensors\n",
    "embedding_sensor = MDS(n_components=2, random_state=42)\n",
    "sensor_coordinates = embedding_sensor.fit_transform(normalized_combined_pivot_table.T)\n",
    "\n",
    "# Create DataFrames for activities and sensors\n",
    "activity_df = pd.DataFrame(activity_coordinates, columns=['x', 'y'], index=normalized_combined_pivot_table.index)\n",
    "sensor_df = pd.DataFrame(sensor_coordinates, columns=['x', 'y'], index=normalized_combined_pivot_table.columns)\n",
    "\n",
    "# Combine activity and sensor DataFrames\n",
    "combined_df = pd.concat([activity_df.reset_index().rename(columns={'index': 'label'}),\n",
    "                         sensor_df.reset_index().rename(columns={'index': 'label'})], ignore_index=True)\n",
    "\n",
    "# Plot combined DataFrame\n",
    "plt.figure(figsize=(12, 8))\n",
    "sns.scatterplot(data=combined_df, x='x', y='y', hue='label', palette='tab10', marker='o', s=200)\n",
    "\n",
    "# Add labels\n",
    "for i, row in combined_df.iterrows():\n",
    "    plt.text(row['x'], row['y'], row['label'], fontsize=9, ha='center', va='center', fontweight='bold')\n",
    "\n",
    "plt.xlabel('MDS Dimension 1')\n",
    "plt.ylabel('MDS Dimension 2')\n",
    "plt.title('MDS Plot of Activities and Sensors')\n",
    "plt.legend(title='Label')\n",
    "\n",
    "# Show the plot\n",
    "plt.show()"
   ]
  }
 ],
 "metadata": {
  "kernelspec": {
   "display_name": "Python 3",
   "language": "python",
   "name": "python3"
  },
  "language_info": {
   "codemirror_mode": {
    "name": "ipython",
    "version": 3
   },
   "file_extension": ".py",
   "mimetype": "text/x-python",
   "name": "python",
   "nbconvert_exporter": "python",
   "pygments_lexer": "ipython3",
   "version": "3.10.10"
  },
  "orig_nbformat": 4
 },
 "nbformat": 4,
 "nbformat_minor": 2
}
